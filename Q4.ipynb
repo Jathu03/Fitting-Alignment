{
 "cells": [
  {
   "cell_type": "code",
   "execution_count": 9,
   "id": "6d131a77-53a2-4d86-8db8-9c932cce0bc7",
   "metadata": {},
   "outputs": [
    {
     "ename": "IndentationError",
     "evalue": "expected an indented block (1648581250.py, line 47)",
     "output_type": "error",
     "traceback": [
      "\u001b[1;36m  Cell \u001b[1;32mIn[9], line 47\u001b[1;36m\u001b[0m\n\u001b[1;33m    else:\u001b[0m\n\u001b[1;37m         ^\u001b[0m\n\u001b[1;31mIndentationError\u001b[0m\u001b[1;31m:\u001b[0m expected an indented block\n"
     ]
    }
   ],
   "source": [
    "import cv2\n",
    "import numpy as np\n",
    "\n",
    "# Load the images\n",
    "img1 = cv2.imread('001.jpg')\n",
    "img5 = cv2.imread('002.jpg')\n",
    "\n",
    "# Create a SIFT feature detector\n",
    "sift = cv2.SIFT_create()\n",
    "\n",
    "# Detect SIFT features and compute descriptors\n",
    "kp1, des1 = sift.detectAndCompute(img1, None)\n",
    "kp5, des5 = sift.detectAndCompute(img5, None)\n",
    "\n",
    "# Create a Brute-Force Matcher\n",
    "bf = cv2.BFMatcher()\n",
    "\n",
    "# Match descriptors\n",
    "matches = bf.knnMatch(des1, des5, k=2)\n",
    "\n",
    "# Apply Lowe's ratio test to filter good matches\n",
    "good_matches = []\n",
    "for m, n in matches:\n",
    "    if m.distance < 0.75 * n.distance:\n",
    "        good_matches.append(m)\n",
    "\n",
    "if len(good_matches) > 10:\n",
    "    src_pts = np.float32([kp1[m.queryIdx].pt for m in good_matches]).reshape(-1, 1, 2)\n",
    "    dst_pts = np.float32([kp5[m.trainIdx].pt for m in good_matches]).reshape(-1, 1, 2)\n",
    "\n",
    "    # Find the homography matrix\n",
    "    H, _ = cv2.findHomography(src_pts, dst_pts, cv2.RANSAC, 5.0)\n",
    "\n",
    "    # Warp the first image onto the second image\n",
    "    result = cv2.warpPerspective(img1, H, (img5.shape[1], img5.shape[0]))\n",
    "\n",
    "    # Optionally, you can blend the two images for a smoother transition\n",
    "    # result = cv2.addWeighted(img5, 0.5, result, 0.5, 0)\n",
    "\n",
    "    # Display the stitched image\n",
    "    cv2.imshow('Stitched Image', result)\n",
    "    cv2.waitKey(0)\n",
    "    cv2.destroyAllWindows()\n",
    "\n",
    "    # Or save the result\n",
    "    cv2.imwrite('stitched_image.ppm', result)"
   ]
  },
  {
   "cell_type": "code",
   "execution_count": null,
   "id": "0bb7ebe1-5b57-4085-9e11-fce798d622a2",
   "metadata": {},
   "outputs": [],
   "source": []
  },
  {
   "cell_type": "code",
   "execution_count": null,
   "id": "84928f3b-26ff-49b8-9838-aa104323fe2f",
   "metadata": {},
   "outputs": [],
   "source": []
  }
 ],
 "metadata": {
  "kernelspec": {
   "display_name": "Python 3 (ipykernel)",
   "language": "python",
   "name": "python3"
  },
  "language_info": {
   "codemirror_mode": {
    "name": "ipython",
    "version": 3
   },
   "file_extension": ".py",
   "mimetype": "text/x-python",
   "name": "python",
   "nbconvert_exporter": "python",
   "pygments_lexer": "ipython3",
   "version": "3.9.0"
  }
 },
 "nbformat": 4,
 "nbformat_minor": 5
}
