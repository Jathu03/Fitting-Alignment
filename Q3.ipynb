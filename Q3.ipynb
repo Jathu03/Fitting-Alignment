{
 "cells": [
  {
   "cell_type": "code",
   "execution_count": null,
   "id": "1fa27417-6947-44c3-ae92-bc4a8eda0978",
   "metadata": {},
   "outputs": [],
   "source": [
    "import cv2\n",
    "import numpy as np\n",
    "\n",
    "def superimpose_flag(architectural_image, flag_image, points_architectural, points_flag):\n",
    "  # Compute the homography.\n",
    "  homography = cv2.findHomography(points_architectural, points_flag)\n",
    "    \n",
    "  # Warp the flag image using the homography.\n",
    "  warped_flag = cv2.warpPerspective(flag_image, homography, architectural_image.shape)\n",
    "\n",
    "  # Blend the warped flag image onto the architectural image.\n",
    "  superposed_image = cv2.addWeighted(architectural_image, 1.0, warped_flag, 0.5, 0.0)\n",
    "\n",
    "  return superposed_image\n",
    "\n",
    "# Load the architectural image and the flag image.\n",
    "architectural_image = cv2.imread(\"001.jpg\")\n",
    "flag_image = cv2.imread(\"Flag_of_the_United_Kingdom_(1-2).svg.png\")\n",
    "\n",
    "# Choose four points on the flag image and four corresponding points on the architectural image.\n",
    "points_flag = np.array([[0, 0], [flag_image.shape[1], 0], [0, flag_image.shape[0]], [flag_image.shape[1], flag_image.shape[0]]])\n",
    "#points_flag = np.array([[0, 0], [100, 0], [0, 100], [100, 100]])\n",
    "points_architectural = np.array([[0, 0], [architectural_image.shape[1] - 100, 100], [100, architectural_image.shape[0] - 100], [architectural_image.shape[1] - 100, architectural_image.shape[0] - 100]])\n",
    "#points_architectural= np.array([[0, 0], [100, 0], [0, 100], [100, 100]])\n",
    "\n",
    "# Superimpose the flag on the architectural image.\n",
    "superposed_image = superimpose_flag(architectural_image, flag_image, points_architectural, points_flag)\n",
    "\n",
    "# Display the superposed image.\n",
    "cv2.imshow(\"Superposed Image\", superposed_image)\n",
    "cv2.waitKey(0)\n"
   ]
  },
  {
   "cell_type": "code",
   "execution_count": null,
   "id": "914e7b3b-05dd-4468-88d8-36f853566f31",
   "metadata": {},
   "outputs": [],
   "source": []
  },
  {
   "cell_type": "code",
   "execution_count": null,
   "id": "e0b0d277-cb9c-4d53-b1b5-18d160e1466a",
   "metadata": {},
   "outputs": [],
   "source": []
  },
  {
   "cell_type": "code",
   "execution_count": null,
   "id": "fc9d5738-cbc3-4750-90b5-fe799d02f695",
   "metadata": {},
   "outputs": [],
   "source": []
  }
 ],
 "metadata": {
  "kernelspec": {
   "display_name": "Python 3 (ipykernel)",
   "language": "python",
   "name": "python3"
  },
  "language_info": {
   "codemirror_mode": {
    "name": "ipython",
    "version": 3
   },
   "file_extension": ".py",
   "mimetype": "text/x-python",
   "name": "python",
   "nbconvert_exporter": "python",
   "pygments_lexer": "ipython3",
   "version": "3.9.0"
  }
 },
 "nbformat": 4,
 "nbformat_minor": 5
}
